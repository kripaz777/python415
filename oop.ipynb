{
 "cells": [
  {
   "cell_type": "code",
   "execution_count": 1,
   "id": "61c5e12e",
   "metadata": {},
   "outputs": [],
   "source": [
    "# class <class_name>:\n",
    "#     <method1>\n",
    "#     <method2>\n",
    "#     <method3>\n",
    "    \n",
    "# obj = <class_name>()"
   ]
  },
  {
   "cell_type": "code",
   "execution_count": 2,
   "id": "53997284",
   "metadata": {},
   "outputs": [
    {
     "name": "stdout",
     "output_type": "stream",
     "text": [
      "Hello World\n"
     ]
    }
   ],
   "source": [
    "class Hello:\n",
    "    print(\"Hello World\")\n"
   ]
  },
  {
   "cell_type": "code",
   "execution_count": 5,
   "id": "84815d38",
   "metadata": {},
   "outputs": [
    {
     "ename": "TypeError",
     "evalue": "hello() takes 0 positional arguments but 1 was given",
     "output_type": "error",
     "traceback": [
      "\u001b[1;31m---------------------------------------------------------------------------\u001b[0m",
      "\u001b[1;31mTypeError\u001b[0m                                 Traceback (most recent call last)",
      "Input \u001b[1;32mIn [5]\u001b[0m, in \u001b[0;36m<cell line: 6>\u001b[1;34m()\u001b[0m\n\u001b[0;32m      3\u001b[0m         \u001b[38;5;28mprint\u001b[39m(\u001b[38;5;124m\"\u001b[39m\u001b[38;5;124mHello World\u001b[39m\u001b[38;5;124m\"\u001b[39m)\n\u001b[0;32m      5\u001b[0m obj \u001b[38;5;241m=\u001b[39m Hello()                   \u001b[38;5;66;03m#object\u001b[39;00m\n\u001b[1;32m----> 6\u001b[0m \u001b[43mobj\u001b[49m\u001b[38;5;241;43m.\u001b[39;49m\u001b[43mhello\u001b[49m\u001b[43m(\u001b[49m\u001b[43m)\u001b[49m\n",
      "\u001b[1;31mTypeError\u001b[0m: hello() takes 0 positional arguments but 1 was given"
     ]
    }
   ],
   "source": [
    "class Hello:                    #defining class\n",
    "    def hello():                #deefining method/function\n",
    "        print(\"Hello World\")\n",
    "        \n",
    "obj = Hello()                   #object\n",
    "obj.hello()"
   ]
  },
  {
   "cell_type": "code",
   "execution_count": 6,
   "id": "333f3598",
   "metadata": {},
   "outputs": [
    {
     "name": "stdout",
     "output_type": "stream",
     "text": [
      "Hello World\n"
     ]
    }
   ],
   "source": [
    "class Hello:                    #defining clas\n",
    "    def hello(self):                #deefining method/function\n",
    "        print(\"Hello World\")\n",
    "        \n",
    "obj = Hello()                   #object\n",
    "obj.hello()"
   ]
  },
  {
   "cell_type": "code",
   "execution_count": 7,
   "id": "34224c03",
   "metadata": {},
   "outputs": [
    {
     "name": "stdout",
     "output_type": "stream",
     "text": [
      "Hello World\n"
     ]
    }
   ],
   "source": [
    "class Hello:                    #defining class\n",
    "    @staticmethod\n",
    "    def hello():                #deefining method/function\n",
    "        print(\"Hello World\")\n",
    "        \n",
    "obj = Hello()                   #object\n",
    "obj.hello()"
   ]
  },
  {
   "cell_type": "code",
   "execution_count": 8,
   "id": "e753df60",
   "metadata": {},
   "outputs": [
    {
     "name": "stdout",
     "output_type": "stream",
     "text": [
      "100\n"
     ]
    }
   ],
   "source": [
    "class Cal:\n",
    "    def cal(self):\n",
    "        l = 10\n",
    "        b = 5\n",
    "        h = 2\n",
    "        v = l*b*h\n",
    "        print(v)\n",
    "\n",
    "obj = Cal()\n",
    "obj.cal()"
   ]
  },
  {
   "cell_type": "code",
   "execution_count": 9,
   "id": "bc878628",
   "metadata": {},
   "outputs": [
    {
     "name": "stdout",
     "output_type": "stream",
     "text": [
      "100\n"
     ]
    }
   ],
   "source": [
    "class Cal:\n",
    "    def cal(self,l,b,h):\n",
    "        v = l*b*h\n",
    "        print(v)\n",
    "        \n",
    "l = 10\n",
    "b = 5\n",
    "h = 2\n",
    "obj = Cal()\n",
    "obj.cal(l,b,h)"
   ]
  },
  {
   "cell_type": "code",
   "execution_count": null,
   "id": "b18f19df",
   "metadata": {},
   "outputs": [],
   "source": [
    "class Cal:\n",
    "    def volume(self,l,b,h):\n",
    "        v = l*b*h\n",
    "        print(v)\n",
    "    def area(self,l,b):\n",
    "        a = l*b\n",
    "        print(a)\n",
    "        \n",
    "l = 10\n",
    "b = 5\n",
    "h = 2\n",
    "obj = Cal()\n",
    "obj.volume(l,b,h)\n",
    "obj.area(l,b)"
   ]
  },
  {
   "cell_type": "code",
   "execution_count": 11,
   "id": "c80bef22",
   "metadata": {},
   "outputs": [
    {
     "name": "stdout",
     "output_type": "stream",
     "text": [
      "50\n",
      "100\n"
     ]
    }
   ],
   "source": [
    "class Cal:\n",
    "    def __init__(self,l,b,h):\n",
    "        self.l = l\n",
    "        self.b = b\n",
    "        self.h = h\n",
    "        \n",
    "    def volume(self):\n",
    "        v = self.l*self.b*self.h\n",
    "        print(v)\n",
    "    def area(self):\n",
    "        a = self.l*self.b\n",
    "        print(a)\n",
    "        \n",
    "l = 10\n",
    "b = 5\n",
    "h = 2\n",
    "obj = Cal(l,b,h)\n",
    "obj.area()\n",
    "obj.volume()"
   ]
  },
  {
   "cell_type": "code",
   "execution_count": 4,
   "id": "5036c207",
   "metadata": {},
   "outputs": [
    {
     "name": "stdout",
     "output_type": "stream",
     "text": [
      "Hello World I am Ram. I am from Kathmandu. I am 45\n"
     ]
    }
   ],
   "source": [
    "class Information:\n",
    "    def __init__(self,name,age,add):\n",
    "        self.name = name\n",
    "        self.age = age \n",
    "        self.add = add\n",
    "        \n",
    "    def info(self):\n",
    "        print(f\"Hello World I am {self.name}. I am from {self.add}. I am {self.age}\")\n",
    "    \n",
    "    \n",
    "obj = Information(\"Ram\",'45','Kathmandu')\n",
    "obj.info()"
   ]
  },
  {
   "cell_type": "code",
   "execution_count": null,
   "id": "acec09bc",
   "metadata": {},
   "outputs": [],
   "source": [
    "  def info(this):\n",
    "        print(f\"Hello World I am {this.name}. I am from {this.add}. I am {this.age}\") \n",
    "        \n",
    "class Information:\n",
    "    def __init__(self,name,age,add):\n",
    "        self.name = name\n",
    "        self.age = age \n",
    "        self.add = add\n",
    "        \n",
    "    def info(this):\n",
    "        print(f\"Hello World I am {this.name}. I am from {this.add}. I am {this.age}\")\n",
    "    \n",
    "    \n",
    "obj = Information(\"Ram\",'45','Kathmandu')\n",
    "obj.info()"
   ]
  },
  {
   "cell_type": "code",
   "execution_count": null,
   "id": "6394e6bd",
   "metadata": {},
   "outputs": [],
   "source": [
    "class Information:\n",
    "    def __init__(self,name,age,add):\n",
    "        self.name = name\n",
    "        self.age = age \n",
    "        self.add = add\n",
    "        \n",
    "    def info(this,phone):\n",
    "        print(f\"Hello World I am {this.name}. I am from {this.add}. I am {this.age}\")\n",
    "    \n",
    "    \n",
    "obj = Information(\"Ram\",'45','Kathmandu')\n",
    "obj.info(9856778987)"
   ]
  },
  {
   "cell_type": "code",
   "execution_count": 13,
   "id": "61e09c80",
   "metadata": {},
   "outputs": [
    {
     "name": "stdout",
     "output_type": "stream",
     "text": [
      "<class 'str'>\n",
      "Ram\n",
      "<class '__main__.Information'>\n",
      "Ram\n",
      "Ram\n"
     ]
    }
   ],
   "source": [
    "class Information:\n",
    "    def __init__(self,name,age,add):\n",
    "        self.name = name\n",
    "        self.age = age \n",
    "        self.add = add\n",
    "        \n",
    "            \n",
    "    def __str__(self):\n",
    "        return self.name\n",
    "        \n",
    "    def info(this):\n",
    "        return f\"Hello World I am {this.name}. I am from {this.add}. I am {this.age}\"\n",
    "\n",
    "    \n",
    "    \n",
    "obj = Information(\"Ram\",'45','Kathmandu')\n",
    "print(type(obj.info()))\n",
    "print(obj)\n",
    "print(type(obj))\n",
    "print(str(obj))\n",
    "print(obj.__str__())"
   ]
  },
  {
   "cell_type": "code",
   "execution_count": null,
   "id": "c78b087d",
   "metadata": {},
   "outputs": [],
   "source": []
  }
 ],
 "metadata": {
  "kernelspec": {
   "display_name": "Python 3 (ipykernel)",
   "language": "python",
   "name": "python3"
  },
  "language_info": {
   "codemirror_mode": {
    "name": "ipython",
    "version": 3
   },
   "file_extension": ".py",
   "mimetype": "text/x-python",
   "name": "python",
   "nbconvert_exporter": "python",
   "pygments_lexer": "ipython3",
   "version": "3.9.12"
  }
 },
 "nbformat": 4,
 "nbformat_minor": 5
}
