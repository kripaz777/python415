{
 "cells": [
  {
   "cell_type": "code",
   "execution_count": 1,
   "id": "7775df15",
   "metadata": {},
   "outputs": [
    {
     "ename": "TypeError",
     "evalue": "unsupported operand type(s) for +: 'Point' and 'Point'",
     "output_type": "error",
     "traceback": [
      "\u001b[1;31m---------------------------------------------------------------------------\u001b[0m",
      "\u001b[1;31mTypeError\u001b[0m                                 Traceback (most recent call last)",
      "Input \u001b[1;32mIn [1]\u001b[0m, in \u001b[0;36m<cell line: 7>\u001b[1;34m()\u001b[0m\n\u001b[0;32m      5\u001b[0m p1 \u001b[38;5;241m=\u001b[39m Point(\u001b[38;5;241m2\u001b[39m,\u001b[38;5;241m3\u001b[39m)\n\u001b[0;32m      6\u001b[0m p2 \u001b[38;5;241m=\u001b[39m Point(\u001b[38;5;241m-\u001b[39m\u001b[38;5;241m1\u001b[39m,\u001b[38;5;241m2\u001b[39m)\n\u001b[1;32m----> 7\u001b[0m \u001b[43mp1\u001b[49m\u001b[43m \u001b[49m\u001b[38;5;241;43m+\u001b[39;49m\u001b[43m \u001b[49m\u001b[43mp2\u001b[49m\n",
      "\u001b[1;31mTypeError\u001b[0m: unsupported operand type(s) for +: 'Point' and 'Point'"
     ]
    }
   ],
   "source": [
    "class Point:\n",
    "    def __init__(self, x = 0, y = 0):\n",
    "        self.x = x\n",
    "        self.y = y\n",
    "        \n",
    "        \n",
    "p1 = Point(2,3)\n",
    "p2 = Point(-1,2)\n",
    "p1 + p2"
   ]
  },
  {
   "cell_type": "code",
   "execution_count": 6,
   "id": "e2f8a899",
   "metadata": {},
   "outputs": [
    {
     "name": "stdout",
     "output_type": "stream",
     "text": [
      "1,5\n",
      "2 3\n",
      "-1 2\n"
     ]
    }
   ],
   "source": [
    "class Point:\n",
    "    def __init__(self, x = 0, y = 0):\n",
    "        self.x = x\n",
    "        self.y = y\n",
    "    \n",
    "    def __str__(self):\n",
    "        return f\"{self.x},{self.y}\"\n",
    "    \n",
    "    def __add__(self,other):\n",
    "        x = self.x + other.x\n",
    "        y = self.y + other.y\n",
    "        return Point(x,y)\n",
    "    \n",
    "    \n",
    "p1 = Point(2,3)\n",
    "p2 = Point(-1,2)\n",
    "print(p1 + p2)\n",
    "\n",
    "# print(p1.x,p1.y)\n",
    "# print(p2.x,p2.y)"
   ]
  },
  {
   "cell_type": "code",
   "execution_count": 8,
   "id": "bf472cd5",
   "metadata": {},
   "outputs": [
    {
     "name": "stdout",
     "output_type": "stream",
     "text": [
      "This is init method 2 3\n",
      "This is init method -1 2\n",
      "This is add method  1 5\n",
      "This is init method 1 5\n",
      "This is str method 1 5\n",
      "1,5\n",
      "<class '__main__.Point'>\n"
     ]
    }
   ],
   "source": [
    "class Point:\n",
    "    def __init__(self, x = 0, y = 0):\n",
    "        self.x = x\n",
    "        self.y = y\n",
    "        print(\"This is init method\",self.x,self.y)\n",
    "    \n",
    "    def __str__(self):\n",
    "        print(\"This is str method\",self.x,self.y)\n",
    "        return f\"{self.x},{self.y}\"\n",
    "    \n",
    "    def __add__(self,other):\n",
    "        x = self.x + other.x\n",
    "        y = self.y + other.y\n",
    "        print(\"This is add method \",x,y)\n",
    "        return Point(x,y)\n",
    "    \n",
    "    \n",
    "p1 = Point(2,3)\n",
    "p2 = Point(-1,2)\n",
    "p = p1 + p2\n",
    "print(p)\n",
    "print(type(p))\n",
    "# print(p1.x,p1.y)\n",
    "# print(p2.x,p2.y)"
   ]
  },
  {
   "cell_type": "code",
   "execution_count": 9,
   "id": "a795b6eb",
   "metadata": {},
   "outputs": [
    {
     "name": "stdout",
     "output_type": "stream",
     "text": [
      "This is init method 5000\n",
      "This is init method 3000\n",
      "This is init method 3000\n",
      "This is add method  8000\n",
      "This is init method 8000\n",
      "This is add method  11000\n",
      "This is init method 11000\n",
      "This is str method 11000\n",
      "11000\n",
      "<class '__main__.Point'>\n"
     ]
    }
   ],
   "source": [
    "class Point:\n",
    "    def __init__(self, x = 0):\n",
    "        self.x = x\n",
    "        print(\"This is init method\",self.x)\n",
    "    \n",
    "    def __str__(self):\n",
    "        print(\"This is str method\",self.x)\n",
    "        return f\"{self.x}\"\n",
    "    \n",
    "    def __add__(self,other):\n",
    "        x = self.x + other.x\n",
    "        print(\"This is add method \",x)\n",
    "        return Point(x)\n",
    "    \n",
    "    \n",
    "p1 = Point(5000)\n",
    "p2 = Point(3000)\n",
    "p3 = Point(3000)\n",
    "\n",
    "p = p1 + p2 +p3\n",
    "print(p)\n",
    "print(type(p))\n",
    "# print(p1.x,p1.y)\n",
    "# print(p2.x,p2.y)"
   ]
  },
  {
   "cell_type": "code",
   "execution_count": null,
   "id": "fb172199",
   "metadata": {},
   "outputs": [],
   "source": [
    "class Parrot:\n",
    "    def fly(self):\n",
    "        print(\"Parrot can fly\")\n",
    "    def swim(self):\n",
    "        print(\"Parrot can't swim\")\n",
    "        \n",
    "class Penguin:\n",
    "    def fly(self):\n",
    "        print(\"Penguin can't fly\")\n",
    "    def swim(self):\n",
    "        print(\"Penguin can swim\")\n",
    "        \n",
    "# common interface\n",
    "def flying_test(bird):\n",
    "    bird.fly()\n",
    "\n",
    "            #instantiate objects\n",
    "blu = Parrot()\n",
    "peggy = Penguin()\n",
    "# passing the object\n",
    "flying_test(blu)\n",
    "flying_test(peggy)\n"
   ]
  },
  {
   "cell_type": "code",
   "execution_count": 11,
   "id": "2cbcd2f9",
   "metadata": {},
   "outputs": [
    {
     "name": "stdout",
     "output_type": "stream",
     "text": [
      "Hello World 1\n"
     ]
    }
   ],
   "source": [
    "def outer_function():\n",
    "    value = \"Hello World 1\"\n",
    "    def inner_function():\n",
    "        print(value)\n",
    "    return inner_function()\n",
    "\n",
    "outer_function()\n"
   ]
  },
  {
   "cell_type": "code",
   "execution_count": 12,
   "id": "9575eb74",
   "metadata": {},
   "outputs": [
    {
     "name": "stdout",
     "output_type": "stream",
     "text": [
      "Hello World\n"
     ]
    }
   ],
   "source": [
    "value = \"Hello World\"\n",
    "def outer_function(x):\n",
    "    \n",
    "    def inner_function():\n",
    "        print(x)\n",
    "    return inner_function()\n",
    "\n",
    "outer_function(value)\n"
   ]
  },
  {
   "cell_type": "code",
   "execution_count": 14,
   "id": "dc32c98e",
   "metadata": {},
   "outputs": [
    {
     "name": "stdout",
     "output_type": "stream",
     "text": [
      "Hello world I am python\n"
     ]
    }
   ],
   "source": [
    "def outer_function(fun):\n",
    "    \n",
    "    def inner_function():\n",
    "        x =fun()\n",
    "    return inner_function()\n",
    "\n",
    "@outer_function                         #decorater\n",
    "def hello():\n",
    "    print(\"Hello world I am python\")"
   ]
  },
  {
   "cell_type": "code",
   "execution_count": null,
   "id": "9aeaf09f",
   "metadata": {},
   "outputs": [],
   "source": []
  }
 ],
 "metadata": {
  "kernelspec": {
   "display_name": "Python 3 (ipykernel)",
   "language": "python",
   "name": "python3"
  },
  "language_info": {
   "codemirror_mode": {
    "name": "ipython",
    "version": 3
   },
   "file_extension": ".py",
   "mimetype": "text/x-python",
   "name": "python",
   "nbconvert_exporter": "python",
   "pygments_lexer": "ipython3",
   "version": "3.9.12"
  }
 },
 "nbformat": 4,
 "nbformat_minor": 5
}
